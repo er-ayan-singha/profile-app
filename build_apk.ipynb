{
  "cells": [
    {
      "cell_type": "raw",
      "metadata": {
        "vscode": {
          "languageId": "raw"
        }
      },
      "source": [
        "# Build APK for Profile App\n",
        "\n",
        "This notebook will help you build an APK for your KivyMD-based Profile App. Follow these steps in order.\n"
      ]
    },
    {
      "cell_type": "code",
      "execution_count": null,
      "metadata": {},
      "outputs": [],
      "source": [
        "# Install required packages\n",
        "!pip install buildozer\n",
        "!pip install cython\n",
        "\n",
        "# Install system dependencies\n",
        "!apt-get update\n",
        "!apt-get install -y \\\n",
        "    python3-pip \\\n",
        "    build-essential \\\n",
        "    git \\\n",
        "    python3 \\\n",
        "    python3-dev \\\n",
        "    ffmpeg \\\n",
        "    libsdl2-dev \\\n",
        "    libsdl2-image-dev \\\n",
        "    libsdl2-mixer-dev \\\n",
        "    libsdl2-ttf-dev \\\n",
        "    libportmidi-dev \\\n",
        "    libswscale-dev \\\n",
        "    libavformat-dev \\\n",
        "    libavcodec-dev \\\n",
        "    zlib1g-dev \\\n",
        "    libgstreamer1.0 \\\n",
        "    gstreamer1.0-plugins-base \\\n",
        "    gstreamer1.0-plugins-good \\\n",
        "    build-essential \\\n",
        "    libsqlite3-dev \\\n",
        "    sqlite3 \\\n",
        "    bzip2 \\\n",
        "    libbz2-dev \\\n",
        "    zlib1g-dev \\\n",
        "    libssl-dev \\\n",
        "    openssl \\\n",
        "    libgdbm-dev \\\n",
        "    libgdbm-compat-dev \\\n",
        "    liblzma-dev \\\n",
        "    libreadline-dev \\\n",
        "    libncursesw5-dev \\\n",
        "    libffi-dev \\\n",
        "    uuid-dev \\\n",
        "    libffi7\n"
      ]
    },
    {
      "cell_type": "code",
      "execution_count": null,
      "metadata": {},
      "outputs": [],
      "source": [
        "# Clone your repository\n",
        "!git clone https://github.com/er-ayan-singha/profile-app.git\n",
        "%cd profile-app\n",
        "\n",
        "# Initialize buildozer\n",
        "!buildozer init\n",
        "# Build the APK\n",
        "!buildozer android debug\n"
      ]
    },
    {
      "cell_type": "code",
      "execution_count": null,
      "metadata": {},
      "outputs": [],
      "source": [
        "# After the build is complete, your APK will be in the bin/ directory\n",
        "# Let's list the contents to find it\n",
        "!ls bin/\n"
      ]
    }
  ],
  "metadata": {
    "language_info": {
      "name": "python"
    }
  },
  "nbformat": 4,
  "nbformat_minor": 2
}
